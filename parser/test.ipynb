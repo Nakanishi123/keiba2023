{
 "cells": [
  {
   "cell_type": "code",
   "execution_count": 1,
   "metadata": {},
   "outputs": [],
   "source": [
    "from selenium import webdriver\n",
    "from selenium.webdriver.common.action_chains import ActionChains\n",
    "from selenium.webdriver.common.by import By\n",
    "from selenium.webdriver.firefox.service import Service\n",
    "from webdriver_manager.firefox import GeckoDriverManager\n",
    "from selenium.webdriver.firefox.options import Options\n",
    "import pandas as pd\n",
    "import re\n",
    "import requests\n",
    "import browser_cookie3\n",
    "from sqlalchemy.ext.declarative import declarative_base\n",
    "from sqlalchemy import create_engine, Column, Integer, String, Date, Float, Text\n",
    "from sqlalchemy.orm import sessionmaker\n",
    "import bs4\n",
    "from bs4 import BeautifulSoup\n",
    "import datetime\n",
    "from dataclass import *\n",
    "from db_search_parser import all_race\n",
    "from db_race_parser import *\n",
    "pd.set_option('display.max_columns', None)"
   ]
  },
  {
   "cell_type": "code",
   "execution_count": 2,
   "metadata": {},
   "outputs": [
    {
     "name": "stderr",
     "output_type": "stream",
     "text": [
      "C:\\Users\\temp\\AppData\\Local\\Temp\\ipykernel_14156\\1028671364.py:5: DeprecationWarning: executable_path has been deprecated, please pass in a Service object\n",
      "  driver = webdriver.Firefox(executable_path=GeckoDriverManager().install(),options=options)\n"
     ]
    }
   ],
   "source": [
    "FIREFOX_PROFILE = r\"C:\\Users\\temp\\AppData\\Roaming\\Mozilla\\Firefox\\Profiles\\oi8lq9qu.forselenium\"\n",
    "options = Options()\n",
    "options.add_argument('-profile')\n",
    "options.add_argument(FIREFOX_PROFILE)\n",
    "driver = webdriver.Firefox(executable_path=GeckoDriverManager().install(),options=options)"
   ]
  },
  {
   "cell_type": "code",
   "execution_count": 19,
   "metadata": {},
   "outputs": [],
   "source": [
    "engine = create_engine('sqlite:///sample_db.sqlite3')\n",
    "Base.metadata.create_all(bind=engine)\n",
    "SessionClass = sessionmaker(engine)  # セッションを作るクラスを作成\n",
    "session = SessionClass()"
   ]
  },
  {
   "cell_type": "code",
   "execution_count": 4,
   "metadata": {},
   "outputs": [],
   "source": [
    "# レース一覧にアクセス\n",
    "url=r\"https://db.netkeiba.com//?pid=race_list&word=&start_year=1988&start_mon=none&end_year=none&end_mon=none&jyo[0]=01&jyo[1]=02&jyo[2]=03&jyo[3]=04&jyo[4]=05&jyo[5]=06&jyo[6]=07&jyo[7]=08&jyo[8]=09&jyo[9]=10&kyori_min=&kyori_max=&sort=date&list=100&page=\"\n",
    "i=1\n",
    "driver.get(url+str(i))\n",
    "driver.implicitly_wait(10)"
   ]
  },
  {
   "cell_type": "code",
   "execution_count": 5,
   "metadata": {},
   "outputs": [],
   "source": [
    "raceinfos = all_race(driver.page_source)"
   ]
  },
  {
   "cell_type": "code",
   "execution_count": 6,
   "metadata": {},
   "outputs": [],
   "source": [
    "race = raceinfos[1]"
   ]
  },
  {
   "cell_type": "code",
   "execution_count": 7,
   "metadata": {},
   "outputs": [],
   "source": [
    "driver.switch_to.new_window('tab')"
   ]
  },
  {
   "cell_type": "code",
   "execution_count": 8,
   "metadata": {},
   "outputs": [],
   "source": [
    "driver.get(f\"https://db.netkeiba.com/race/{race._id}\")"
   ]
  },
  {
   "cell_type": "code",
   "execution_count": 9,
   "metadata": {},
   "outputs": [],
   "source": [
    "race.set_direction(driver.page_source)\n",
    "_id = race._id"
   ]
  },
  {
   "cell_type": "code",
   "execution_count": 10,
   "metadata": {},
   "outputs": [],
   "source": [
    "races = get_race(driver.page_source, _id)\n",
    "oddses = get_odds(driver.page_source, _id)\n",
    "truck_infos = get_truck_info(driver.page_source, _id)\n",
    "corner_infos = get_corner_info(driver.page_source, _id)\n",
    "lap_times = get_lap_time(driver.page_source, _id)\n",
    "race_analysis = get_race_analysis(driver.page_source, _id)\n",
    "short_comment = get_short_comment(driver.page_source, _id)"
   ]
  },
  {
   "cell_type": "code",
   "execution_count": 20,
   "metadata": {},
   "outputs": [],
   "source": [
    "session.add_all(races)\n",
    "session.add_all(oddses)\n",
    "if truck_infos:\n",
    "    session.add(truck_infos)\n",
    "if corner_infos:\n",
    "    session.add(corner_infos)\n",
    "if lap_times:\n",
    "    session.add(lap_times)\n",
    "if race_analysis:\n",
    "    session.add(race_analysis)\n",
    "if short_comment:\n",
    "    session.add(short_comment)\n",
    "    \n",
    "session.add(race)\n",
    "session.commit()"
   ]
  },
  {
   "cell_type": "code",
   "execution_count": null,
   "metadata": {},
   "outputs": [],
   "source": [
    "soup = BeautifulSoup(driver.page_source, 'html.parser')\n",
    "table = soup.findAll(\"table\")\n",
    "race_table = table[0]\n",
    "trs = race_table.find_all(\"tr\")\n",
    "tr = trs[1]"
   ]
  },
  {
   "cell_type": "code",
   "execution_count": null,
   "metadata": {},
   "outputs": [],
   "source": [
    "driver.switch_to.new_window('tab')"
   ]
  },
  {
   "cell_type": "code",
   "execution_count": null,
   "metadata": {},
   "outputs": [],
   "source": [
    "driver.close()"
   ]
  },
  {
   "cell_type": "code",
   "execution_count": null,
   "metadata": {},
   "outputs": [],
   "source": [
    "x = Race()\n",
    "x.from_tr(tr)\n",
    "x.set_id(re.findall(r\"\\d{8,}\", driver.current_url)[0])"
   ]
  },
  {
   "cell_type": "code",
   "execution_count": null,
   "metadata": {},
   "outputs": [],
   "source": [
    "pay_block = soup.find(class_=\"pay_block\")\n",
    "trs = pay_block.find_all(\"tr\")\n",
    "res =[]\n",
    "_id = re.findall(r\"\\d{8,}\", driver.current_url)[0]\n",
    "for tr in trs:\n",
    "    kind = tr.find(\"th\").text\n",
    "    atari,henkin,ninki = tr.find_all(\"td\")\n",
    "    atari = atari.get_text('UNKO').split('UNKO')\n",
    "    henkin = henkin.get_text('UNKO').split('UNKO')\n",
    "    ninki = ninki.get_text('UNKO').split('UNKO')\n",
    "    res += [Odds(_id,kind,a,h,n) for a,h,n in zip(atari,henkin,ninki)]"
   ]
  },
  {
   "cell_type": "code",
   "execution_count": null,
   "metadata": {},
   "outputs": [],
   "source": [
    "# 馬場情報\n",
    "result_info = soup.find_all(class_=\"result_info\")\n",
    "tables_left = result_info[0].find_all(\"table\")\n",
    "for table in tables_left:\n",
    "    if re.search(r\"馬場指数\", table.text):\n",
    "        baba_index = table\n",
    "        break\n",
    "xx=TruckInfo(_id, baba_index)"
   ]
  },
  {
   "cell_type": "code",
   "execution_count": null,
   "metadata": {},
   "outputs": [],
   "source": [
    "# コーナー通過順位\n",
    "result_info = soup.find_all(class_=\"result_info\")\n",
    "tables_left = result_info[0].find_all(\"table\")\n",
    "for table in tables_left:\n",
    "    if re.search(r\"コーナー通過順位\", table.text):\n",
    "        corner_index = table\n",
    "        break\n",
    "xxx = CornerInfo(_id, corner_index)"
   ]
  },
  {
   "cell_type": "code",
   "execution_count": null,
   "metadata": {},
   "outputs": [],
   "source": [
    "# ラップタイム\n",
    "result_info = soup.find_all(class_=\"result_info\")\n",
    "tables_left = result_info[0].find_all(\"table\")\n",
    "for table in tables_left:\n",
    "    if re.search(r\"ラップタイム\", table.text):\n",
    "        lap_time = table\n",
    "        break\n",
    "xxxx = LapTime(_id, lap_time)"
   ]
  },
  {
   "cell_type": "code",
   "execution_count": null,
   "metadata": {},
   "outputs": [],
   "source": [
    "# レース分析\n",
    "race_anal = soup.find_all(class_=\"result_info\")\n",
    "tables_right = result_info[1].find_all(\"table\")\n",
    "for table in tables_right:\n",
    "    if re.search(r\"レース分析\", table.text):\n",
    "        race_anal_table = table\n",
    "        break\n",
    "xxxxx = RaceAnalysis(_id, race_anal_table)\n",
    "xxxxx.__dict__"
   ]
  },
  {
   "cell_type": "code",
   "execution_count": null,
   "metadata": {},
   "outputs": [],
   "source": [
    "# レース後の短評\n",
    "race_tanpyo = soup.find_all(class_=\"result_info\")\n",
    "tables_right = result_info[1].find_all(\"table\")\n",
    "for table in tables_right:\n",
    "    if re.search(r\"レース後の短評\", table.text):\n",
    "        race_tanpyo_table = table\n",
    "        break\n",
    "\n",
    "ths = race_tanpyo_table.find_all(\"th\")\n",
    "tds = race_tanpyo_table.find_all(\"td\")\n",
    "if ths is not None or tds is not None:\n",
    "    x=10\n",
    "[ShortComment().init_thtd(_id,th,td).__dict__ for th,td in zip(ths,tds)]"
   ]
  }
 ],
 "metadata": {
  "kernelspec": {
   "display_name": "selenium",
   "language": "python",
   "name": "python3"
  },
  "language_info": {
   "codemirror_mode": {
    "name": "ipython",
    "version": 3
   },
   "file_extension": ".py",
   "mimetype": "text/x-python",
   "name": "python",
   "nbconvert_exporter": "python",
   "pygments_lexer": "ipython3",
   "version": "3.11.2"
  },
  "orig_nbformat": 4
 },
 "nbformat": 4,
 "nbformat_minor": 2
}
